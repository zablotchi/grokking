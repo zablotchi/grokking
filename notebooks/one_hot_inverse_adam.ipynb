{
 "cells": [
  {
   "cell_type": "markdown",
   "metadata": {},
   "source": [
    "In this notebook, we try to learn the\n",
    "inverse to the pytorch `torch.nn.functional.one_hot` function."
   ]
  },
  {
   "cell_type": "markdown",
   "metadata": {},
   "source": [
    "### Import libraries"
   ]
  },
  {
   "cell_type": "code",
   "execution_count": 13,
   "metadata": {},
   "outputs": [
    {
     "name": "stdout",
     "output_type": "stream",
     "text": [
      "The autoreload extension is already loaded. To reload it, use:\n",
      "  %reload_ext autoreload\n"
     ]
    }
   ],
   "source": [
    "%load_ext autoreload\n",
    "%autoreload 2"
   ]
  },
  {
   "cell_type": "code",
   "execution_count": 14,
   "metadata": {},
   "outputs": [
    {
     "data": {
      "text/plain": [
       "PosixPath('/home2/gridsan/twang/code/grokking')"
      ]
     },
     "execution_count": 14,
     "metadata": {},
     "output_type": "execute_result"
    }
   ],
   "source": [
    "import pathlib\n",
    "import sys\n",
    "\n",
    "import einops\n",
    "import git\n",
    "import matplotlib.pyplot as plt\n",
    "import numpy as np\n",
    "import pandas as pd\n",
    "import pytorch_lightning as pl\n",
    "import torch\n",
    "from torch import nn\n",
    "\n",
    "GIT_ROOT = pathlib.Path(git.Repo('.', search_parent_directories=True).working_tree_dir)\n",
    "GIT_ROOT"
   ]
  },
  {
   "cell_type": "code",
   "execution_count": 15,
   "metadata": {},
   "outputs": [],
   "source": [
    "sys.path.append(\"..\")\n",
    "from grokk_replica.one_hot_inverse import dataset\n",
    "from grokk_replica.one_hot_inverse.model import OneHotFCNet, OneHotFCNetConfig"
   ]
  },
  {
   "cell_type": "markdown",
   "metadata": {},
   "source": [
    "### Initialize data and model"
   ]
  },
  {
   "cell_type": "code",
   "execution_count": 16,
   "metadata": {},
   "outputs": [],
   "source": [
    "ds = dataset.OneHotDS(cfg=dataset.OneHotDSConfig(n_classes=96))\n",
    "dm = dataset.InfiniteDM(ds=ds, cfg=dataset.InfiniteDMConfig(n_workers=8))"
   ]
  },
  {
   "cell_type": "code",
   "execution_count": 17,
   "metadata": {},
   "outputs": [
    {
     "name": "stderr",
     "output_type": "stream",
     "text": [
      "Global seed set to 42\n"
     ]
    },
    {
     "name": "stdout",
     "output_type": "stream",
     "text": [
      "torch.Size([512, 96]) torch.Size([512])\n"
     ]
    },
    {
     "data": {
      "text/plain": [
       "(tensor([0., 0., 0., 0., 0., 0., 0., 0., 0., 0., 0., 0., 0., 0., 0., 0., 0., 0.,\n",
       "         0., 0., 0., 0., 0., 0., 0., 0., 0., 0., 0., 0., 0., 0., 0., 0., 0., 0.,\n",
       "         0., 0., 0., 0., 0., 0., 0., 0., 0., 0., 0., 0., 0., 0., 0., 0., 0., 0.,\n",
       "         0., 0., 1., 0., 0., 0., 0., 0., 0., 0., 0., 0., 0., 0., 0., 0., 0., 0.,\n",
       "         0., 0., 0., 0., 0., 0., 0., 0., 0., 0., 0., 0., 0., 0., 0., 0., 0., 0.,\n",
       "         0., 0., 0., 0., 0., 0.]),\n",
       " tensor(0.5833))"
      ]
     },
     "execution_count": 17,
     "metadata": {},
     "output_type": "execute_result"
    }
   ],
   "source": [
    "pl.seed_everything(42)\n",
    "xs_tmp, ys_tmp = next(iter(dm.train_dataloader()))\n",
    "print(xs_tmp.shape, ys_tmp.shape)\n",
    "xs_tmp[0], ys_tmp[0]"
   ]
  },
  {
   "cell_type": "markdown",
   "metadata": {},
   "source": [
    "# Do training"
   ]
  },
  {
   "cell_type": "code",
   "execution_count": 18,
   "metadata": {},
   "outputs": [],
   "source": [
    "class CustomCallback(pl.Callback):\n",
    "    def __init__(self):\n",
    "        super().__init__()\n",
    "        self.metric_history: list[dict[str, float]] = []\n",
    "\n",
    "    def on_train_batch_end(self, trainer: pl.Trainer, *_, **__):\n",
    "        self.metric_history.append(\n",
    "            {k: v.item() for k, v in trainer.logged_metrics.items()}\n",
    "        )\n",
    "\n",
    "def train_model(\n",
    "    model: pl.LightningModule,\n",
    "    dm: pl.LightningDataModule,\n",
    "    max_steps: int,\n",
    ") -> pd.DataFrame:\n",
    "    \"\"\"Returns metric history.\"\"\"\n",
    "    cc = CustomCallback()\n",
    "    pl.Trainer(\n",
    "        gpus=1,\n",
    "        deterministic=True,\n",
    "        logger=False,  # We do custom logging instead.\n",
    "        log_every_n_steps=1,\n",
    "        max_steps=max_steps,\n",
    "        enable_progress_bar=True,\n",
    "        enable_model_summary=False,\n",
    "        enable_checkpointing=False,\n",
    "        callbacks=[cc],\n",
    "    ).fit(\n",
    "        model=model,\n",
    "        datamodule=dm,\n",
    "    )\n",
    "\n",
    "    return pd.DataFrame(cc.metric_history)"
   ]
  },
  {
   "cell_type": "markdown",
   "metadata": {},
   "source": [
    "### Depth 1"
   ]
  },
  {
   "cell_type": "code",
   "execution_count": 19,
   "metadata": {},
   "outputs": [
    {
     "name": "stderr",
     "output_type": "stream",
     "text": [
      "Global seed set to 42\n",
      "GPU available: True, used: True\n",
      "TPU available: False, using: 0 TPU cores\n",
      "IPU available: False, using: 0 IPUs\n",
      "HPU available: False, using: 0 HPUs\n",
      "LOCAL_RANK: 0 - CUDA_VISIBLE_DEVICES: [0]\n"
     ]
    },
    {
     "data": {
      "application/vnd.jupyter.widget-view+json": {
       "model_id": "effed53a43a4483abcd7b945f714244d",
       "version_major": 2,
       "version_minor": 0
      },
      "text/plain": [
       "Training: 0it [00:00, ?it/s]"
      ]
     },
     "metadata": {},
     "output_type": "display_data"
    },
    {
     "data": {
      "image/png": "[encoded data removed]",
      "text/plain": [
       "<Figure size 432x288 with 1 Axes>"
      ]
     },
     "metadata": {
      "needs_background": "light"
     },
     "output_type": "display_data"
    }
   ],
   "source": [
    "pl.seed_everything(42)\n",
    "model1 = OneHotFCNet(cfg=OneHotFCNetConfig(\n",
    "    n_classes=ds.cfg.n_classes,\n",
    "    hidden_width=ds.cfg.n_classes,\n",
    "    depth=1,\n",
    "    opt_type=\"adam\",\n",
    "    learning_rate=1e-4,\n",
    "))\n",
    "mh1 = train_model(model=model1, dm=dm, max_steps=2000)\n",
    "\n",
    "mh1.mse.plot()\n",
    "plt.yscale(\"log\")"
   ]
  },
  {
   "cell_type": "code",
   "execution_count": 20,
   "metadata": {},
   "outputs": [
    {
     "name": "stderr",
     "output_type": "stream",
     "text": [
      "Global seed set to 42\n",
      "GPU available: True, used: True\n",
      "TPU available: False, using: 0 TPU cores\n",
      "IPU available: False, using: 0 IPUs\n",
      "HPU available: False, using: 0 HPUs\n",
      "LOCAL_RANK: 0 - CUDA_VISIBLE_DEVICES: [0]\n"
     ]
    },
    {
     "data": {
      "application/vnd.jupyter.widget-view+json": {
       "model_id": "bcc23265ead14d0e84a82cf9f0b60c1c",
       "version_major": 2,
       "version_minor": 0
      },
      "text/plain": [
       "Training: 0it [00:00, ?it/s]"
      ]
     },
     "metadata": {},
     "output_type": "display_data"
    },
    {
     "data": {
      "image/png": "[encoded data removed]",
      "text/plain": [
       "<Figure size 432x288 with 1 Axes>"
      ]
     },
     "metadata": {
      "needs_background": "light"
     },
     "output_type": "display_data"
    }
   ],
   "source": [
    "pl.seed_everything(42)\n",
    "model2 = OneHotFCNet(cfg=OneHotFCNetConfig(\n",
    "    n_classes=ds.cfg.n_classes,\n",
    "    hidden_width=ds.cfg.n_classes,\n",
    "    depth=1,\n",
    "    opt_type=\"adam\",\n",
    "    learning_rate=1e-3,\n",
    "))\n",
    "mh2 = train_model(model=model2, dm=dm, max_steps=3000)\n",
    "\n",
    "mh2.mse.plot()\n",
    "plt.yscale(\"log\")"
   ]
  },
  {
   "cell_type": "code",
   "execution_count": 21,
   "metadata": {},
   "outputs": [
    {
     "name": "stderr",
     "output_type": "stream",
     "text": [
      "Global seed set to 42\n",
      "GPU available: True, used: True\n",
      "TPU available: False, using: 0 TPU cores\n",
      "IPU available: False, using: 0 IPUs\n",
      "HPU available: False, using: 0 HPUs\n",
      "LOCAL_RANK: 0 - CUDA_VISIBLE_DEVICES: [0]\n"
     ]
    },
    {
     "data": {
      "application/vnd.jupyter.widget-view+json": {
       "model_id": "884a703ca9ff457e9270edf4fc84b54a",
       "version_major": 2,
       "version_minor": 0
      },
      "text/plain": [
       "Training: 0it [00:00, ?it/s]"
      ]
     },
     "metadata": {},
     "output_type": "display_data"
    },
    {
     "data": {
      "image/png": "[encoded data removed]",
      "text/plain": [
       "<Figure size 432x288 with 1 Axes>"
      ]
     },
     "metadata": {
      "needs_background": "light"
     },
     "output_type": "display_data"
    }
   ],
   "source": [
    "pl.seed_everything(42)\n",
    "model3 = OneHotFCNet(cfg=OneHotFCNetConfig(\n",
    "    n_classes=ds.cfg.n_classes,\n",
    "    hidden_width=ds.cfg.n_classes,\n",
    "    depth=1,\n",
    "    opt_type=\"adam\",\n",
    "    learning_rate=1e-2,\n",
    "))\n",
    "mh3 = train_model(model=model3, dm=dm, max_steps=3000)\n",
    "\n",
    "mh3.mse.plot()\n",
    "plt.yscale(\"log\")"
   ]
  },
  {
   "cell_type": "markdown",
   "metadata": {},
   "source": [
    "### Depth 2"
   ]
  },
  {
   "cell_type": "code",
   "execution_count": 22,
   "metadata": {},
   "outputs": [
    {
     "name": "stderr",
     "output_type": "stream",
     "text": [
      "Global seed set to 42\n",
      "GPU available: True, used: True\n",
      "TPU available: False, using: 0 TPU cores\n",
      "IPU available: False, using: 0 IPUs\n",
      "HPU available: False, using: 0 HPUs\n",
      "LOCAL_RANK: 0 - CUDA_VISIBLE_DEVICES: [0]\n"
     ]
    },
    {
     "data": {
      "application/vnd.jupyter.widget-view+json": {
       "model_id": "d577d3f411d341f4b53b70ef52a86f6b",
       "version_major": 2,
       "version_minor": 0
      },
      "text/plain": [
       "Training: 0it [00:00, ?it/s]"
      ]
     },
     "metadata": {},
     "output_type": "display_data"
    },
    {
     "data": {
      "image/png": "[encoded data removed]",
      "text/plain": [
       "<Figure size 432x288 with 1 Axes>"
      ]
     },
     "metadata": {
      "needs_background": "light"
     },
     "output_type": "display_data"
    }
   ],
   "source": [
    "pl.seed_everything(42)\n",
    "model4 = OneHotFCNet(cfg=OneHotFCNetConfig(\n",
    "    n_classes=ds.cfg.n_classes,\n",
    "    hidden_width=ds.cfg.n_classes,\n",
    "    depth=2,\n",
    "    opt_type=\"adam\",\n",
    "    learning_rate=1e-4,\n",
    "))\n",
    "mh4 = train_model(model=model4, dm=dm, max_steps=8000)\n",
    "\n",
    "mh4.mse.plot()\n",
    "plt.yscale(\"log\")"
   ]
  },
  {
   "cell_type": "code",
   "execution_count": 23,
   "metadata": {},
   "outputs": [
    {
     "name": "stderr",
     "output_type": "stream",
     "text": [
      "Global seed set to 42\n",
      "GPU available: True, used: True\n",
      "TPU available: False, using: 0 TPU cores\n",
      "IPU available: False, using: 0 IPUs\n",
      "HPU available: False, using: 0 HPUs\n",
      "LOCAL_RANK: 0 - CUDA_VISIBLE_DEVICES: [0]\n"
     ]
    },
    {
     "data": {
      "application/vnd.jupyter.widget-view+json": {
       "model_id": "767d55c862e7418397d049ecca1c4f80",
       "version_major": 2,
       "version_minor": 0
      },
      "text/plain": [
       "Training: 0it [00:00, ?it/s]"
      ]
     },
     "metadata": {},
     "output_type": "display_data"
    },
    {
     "data": {
      "image/png": "[encoded data removed]",
      "text/plain": [
       "<Figure size 432x288 with 1 Axes>"
      ]
     },
     "metadata": {
      "needs_background": "light"
     },
     "output_type": "display_data"
    }
   ],
   "source": [
    "pl.seed_everything(42)\n",
    "model5 = OneHotFCNet(cfg=OneHotFCNetConfig(\n",
    "    n_classes=ds.cfg.n_classes,\n",
    "    hidden_width=ds.cfg.n_classes,\n",
    "    depth=2,\n",
    "    opt_type=\"adam\",\n",
    "    learning_rate=1e-3,\n",
    "))\n",
    "mh5 = train_model(model=model5, dm=dm, max_steps=3000)\n",
    "\n",
    "mh5.mse.plot()\n",
    "plt.yscale(\"log\")"
   ]
  },
  {
   "cell_type": "code",
   "execution_count": 24,
   "metadata": {},
   "outputs": [
    {
     "name": "stderr",
     "output_type": "stream",
     "text": [
      "Global seed set to 42\n",
      "GPU available: True, used: True\n",
      "TPU available: False, using: 0 TPU cores\n",
      "IPU available: False, using: 0 IPUs\n",
      "HPU available: False, using: 0 HPUs\n",
      "LOCAL_RANK: 0 - CUDA_VISIBLE_DEVICES: [0]\n"
     ]
    },
    {
     "data": {
      "application/vnd.jupyter.widget-view+json": {
       "model_id": "7ba913b93e9d4db2ab15524909ba2185",
       "version_major": 2,
       "version_minor": 0
      },
      "text/plain": [
       "Training: 0it [00:00, ?it/s]"
      ]
     },
     "metadata": {},
     "output_type": "display_data"
    },
    {
     "data": {
      "image/png": "[encoded data removed]",
      "text/plain": [
       "<Figure size 432x288 with 1 Axes>"
      ]
     },
     "metadata": {
      "needs_background": "light"
     },
     "output_type": "display_data"
    }
   ],
   "source": [
    "pl.seed_everything(42)\n",
    "model6 = OneHotFCNet(cfg=OneHotFCNetConfig(\n",
    "    n_classes=ds.cfg.n_classes,\n",
    "    hidden_width=ds.cfg.n_classes,\n",
    "    depth=2,\n",
    "    opt_type=\"adam\",\n",
    "    learning_rate=1e-2,\n",
    "))\n",
    "mh6 = train_model(model=model6, dm=dm, max_steps=3000)\n",
    "\n",
    "mh6.mse.plot()\n",
    "plt.yscale(\"log\")"
   ]
  }
 ],
 "metadata": {
  "interpreter": {
   "hash": "c5f5fad970924c2f4879607bf22e9f824e69a0f3076d3669e300e7107418af4f"
  },
  "kernelspec": {
   "display_name": "Python 3.9.7 ('grokking')",
   "language": "python",
   "name": "python3"
  },
  "language_info": {
   "codemirror_mode": {
    "name": "ipython",
    "version": 3
   },
   "file_extension": ".py",
   "mimetype": "text/x-python",
   "name": "python",
   "nbconvert_exporter": "python",
   "pygments_lexer": "ipython3",
   "version": "3.9.7"
  },
  "orig_nbformat": 4
 },
 "nbformat": 4,
 "nbformat_minor": 2
}
